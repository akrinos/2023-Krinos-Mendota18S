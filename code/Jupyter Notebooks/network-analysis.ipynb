{
 "cells": [
  {
   "cell_type": "code",
   "execution_count": 2,
   "metadata": {},
   "outputs": [],
   "source": [
    "pacman::p_load(ggplot2,ggpubr,phylotools,geiger,ggtreeExtra,data.table,\n",
    "               phytools,phyloseq,ggtree,ape,grid,tidyr,wesanderson,\n",
    "               ggnewscale,stringr,lubridate,ggridges,patchwork,ggstance,dendextend,tidyverse)"
   ]
  },
  {
   "cell_type": "markdown",
   "metadata": {},
   "source": [
    "## Read in metadata-linked abundances from `process-abundance-data.ipynb`"
   ]
  },
  {
   "cell_type": "code",
   "execution_count": 8,
   "metadata": {},
   "outputs": [
    {
     "name": "stderr",
     "output_type": "stream",
     "text": [
      "Warning message in fread(file.path(\"..\", \"..\", \"data\", \"sam_with_meta_bact.csv\")):\n",
      "“Discarded single-line footer: <<\"247447\",\"Ga0335000_0057431SSU_rRNA_bacteria\",1,1665,46,1528,91.7718,4.11351,36.1,8.26,621.743797210117,\"1229921\",\"Ga0453072\",142,162432158,2.83195154003926e-07,142,1229795,\"/global/dna/dm_archive/img/submissions/209750/Ga0335032_contigs.fna\",\"/global/dna/dm_archive/rqc/analyses/AUTO-226312/12844.2.289969.TAGTGACC-GGTCACTA.filter-METAGENOME.fastq.gz\",1229921,\"Ga0335032\",\"Freshwater microbial communities from Lake Mendota, Madison, Wisconsin, Unite>>”\n"
     ]
    }
   ],
   "source": [
    "sam_with_meta_bact <- data.frame(fread(file.path(\"..\",\"..\",\"data\",\"sam_with_meta_bact.csv\")))\n",
    "sam_with_meta <- data.frame(fread(file.path(\"..\",\"..\",\"data\",\"sam_with_meta_euk.csv\")))"
   ]
  },
  {
   "cell_type": "code",
   "execution_count": 10,
   "metadata": {},
   "outputs": [
    {
     "data": {
      "text/html": [
       "<style>\n",
       ".list-inline {list-style: none; margin:0; padding: 0}\n",
       ".list-inline>li {display: inline-block}\n",
       ".list-inline>li:not(:last-child)::after {content: \"\\00b7\"; padding: 0 .5ex}\n",
       "</style>\n",
       "<ol class=list-inline><li>'V1'</li><li>'X.rname'</li><li>'startpos'</li><li>'endpos'</li><li>'numreads'</li><li>'covbases'</li><li>'coverage'</li><li>'meandepth'</li><li>'meanbaseq'</li><li>'meanmapq'</li><li>'TPM'</li><li>'Sample'</li><li>'AssemblyName'</li><li>'X.x'</li><li>'totalreads'</li><li>'propreads'</li><li>'X.y'</li><li>'AnalysisIDs'</li><li>'Assembly'</li><li>'Raw'</li><li>'SeqProjID'</li><li>'Analysis.Project.GOLD.Analysis.Project.ID'</li><li>'Analysis.Project.Analysis.Project.Name'</li><li>'Analysis.Project.Analysis.Project.Type'</li><li>'Analysis.Project.IMG.Submission.ID'</li><li>'Analysis.Project.Assembly.Method'</li><li>'Analysis.Project.Add.Date'</li><li>'Analysis.Project.IMG.Taxon.ID'</li><li>'Analysis.Project.ITS.Analysis.Project.ID'</li><li>'SampleDate'</li></ol>\n"
      ],
      "text/latex": [
       "\\begin{enumerate*}\n",
       "\\item 'V1'\n",
       "\\item 'X.rname'\n",
       "\\item 'startpos'\n",
       "\\item 'endpos'\n",
       "\\item 'numreads'\n",
       "\\item 'covbases'\n",
       "\\item 'coverage'\n",
       "\\item 'meandepth'\n",
       "\\item 'meanbaseq'\n",
       "\\item 'meanmapq'\n",
       "\\item 'TPM'\n",
       "\\item 'Sample'\n",
       "\\item 'AssemblyName'\n",
       "\\item 'X.x'\n",
       "\\item 'totalreads'\n",
       "\\item 'propreads'\n",
       "\\item 'X.y'\n",
       "\\item 'AnalysisIDs'\n",
       "\\item 'Assembly'\n",
       "\\item 'Raw'\n",
       "\\item 'SeqProjID'\n",
       "\\item 'Analysis.Project.GOLD.Analysis.Project.ID'\n",
       "\\item 'Analysis.Project.Analysis.Project.Name'\n",
       "\\item 'Analysis.Project.Analysis.Project.Type'\n",
       "\\item 'Analysis.Project.IMG.Submission.ID'\n",
       "\\item 'Analysis.Project.Assembly.Method'\n",
       "\\item 'Analysis.Project.Add.Date'\n",
       "\\item 'Analysis.Project.IMG.Taxon.ID'\n",
       "\\item 'Analysis.Project.ITS.Analysis.Project.ID'\n",
       "\\item 'SampleDate'\n",
       "\\end{enumerate*}\n"
      ],
      "text/markdown": [
       "1. 'V1'\n",
       "2. 'X.rname'\n",
       "3. 'startpos'\n",
       "4. 'endpos'\n",
       "5. 'numreads'\n",
       "6. 'covbases'\n",
       "7. 'coverage'\n",
       "8. 'meandepth'\n",
       "9. 'meanbaseq'\n",
       "10. 'meanmapq'\n",
       "11. 'TPM'\n",
       "12. 'Sample'\n",
       "13. 'AssemblyName'\n",
       "14. 'X.x'\n",
       "15. 'totalreads'\n",
       "16. 'propreads'\n",
       "17. 'X.y'\n",
       "18. 'AnalysisIDs'\n",
       "19. 'Assembly'\n",
       "20. 'Raw'\n",
       "21. 'SeqProjID'\n",
       "22. 'Analysis.Project.GOLD.Analysis.Project.ID'\n",
       "23. 'Analysis.Project.Analysis.Project.Name'\n",
       "24. 'Analysis.Project.Analysis.Project.Type'\n",
       "25. 'Analysis.Project.IMG.Submission.ID'\n",
       "26. 'Analysis.Project.Assembly.Method'\n",
       "27. 'Analysis.Project.Add.Date'\n",
       "28. 'Analysis.Project.IMG.Taxon.ID'\n",
       "29. 'Analysis.Project.ITS.Analysis.Project.ID'\n",
       "30. 'SampleDate'\n",
       "\n",
       "\n"
      ],
      "text/plain": [
       " [1] \"V1\"                                       \n",
       " [2] \"X.rname\"                                  \n",
       " [3] \"startpos\"                                 \n",
       " [4] \"endpos\"                                   \n",
       " [5] \"numreads\"                                 \n",
       " [6] \"covbases\"                                 \n",
       " [7] \"coverage\"                                 \n",
       " [8] \"meandepth\"                                \n",
       " [9] \"meanbaseq\"                                \n",
       "[10] \"meanmapq\"                                 \n",
       "[11] \"TPM\"                                      \n",
       "[12] \"Sample\"                                   \n",
       "[13] \"AssemblyName\"                             \n",
       "[14] \"X.x\"                                      \n",
       "[15] \"totalreads\"                               \n",
       "[16] \"propreads\"                                \n",
       "[17] \"X.y\"                                      \n",
       "[18] \"AnalysisIDs\"                              \n",
       "[19] \"Assembly\"                                 \n",
       "[20] \"Raw\"                                      \n",
       "[21] \"SeqProjID\"                                \n",
       "[22] \"Analysis.Project.GOLD.Analysis.Project.ID\"\n",
       "[23] \"Analysis.Project.Analysis.Project.Name\"   \n",
       "[24] \"Analysis.Project.Analysis.Project.Type\"   \n",
       "[25] \"Analysis.Project.IMG.Submission.ID\"       \n",
       "[26] \"Analysis.Project.Assembly.Method\"         \n",
       "[27] \"Analysis.Project.Add.Date\"                \n",
       "[28] \"Analysis.Project.IMG.Taxon.ID\"            \n",
       "[29] \"Analysis.Project.ITS.Analysis.Project.ID\" \n",
       "[30] \"SampleDate\"                               "
      ]
     },
     "metadata": {},
     "output_type": "display_data"
    }
   ],
   "source": [
    "colnames(sam_with_meta)"
   ]
  },
  {
   "cell_type": "code",
   "execution_count": 6,
   "metadata": {},
   "outputs": [
    {
     "ename": "ERROR",
     "evalue": "Error: Can't subset columns that don't exist.\n\u001b[31m✖\u001b[39m Column `Label` doesn't exist.\n",
     "output_type": "error",
     "traceback": [
      "Error: Can't subset columns that don't exist.\n\u001b[31m✖\u001b[39m Column `Label` doesn't exist.\nTraceback:\n",
      "1. head(sam_with_meta) %>% tidyr::pivot_wider(names_from = SampleDate, \n .     id_cols = Label, values_from = TPM)",
      "2. tidyr::pivot_wider(., names_from = SampleDate, id_cols = Label, \n .     values_from = TPM)",
      "3. pivot_wider.data.frame(., names_from = SampleDate, id_cols = Label, \n .     values_from = TPM)",
      "4. pivot_wider_spec(data, spec, !!id_cols, names_repair = names_repair, \n .     values_fill = values_fill, values_fn = values_fn)",
      "5. tidyselect::eval_select(enquo(id_cols), data)",
      "6. eval_select_impl(data, names(data), as_quosure(expr, env), include = include, \n .     exclude = exclude, strict = strict, name_spec = name_spec, \n .     allow_rename = allow_rename)",
      "7. with_subscript_errors(vars_select_eval(vars, expr, strict, data = x, \n .     name_spec = name_spec, uniquely_named = uniquely_named, allow_rename = allow_rename, \n .     type = type), type = type)",
      "8. tryCatch(instrument_base_errors(expr), vctrs_error_subscript = function(cnd) {\n .     cnd$subscript_action <- subscript_action(type)\n .     cnd$subscript_elt <- \"column\"\n .     cnd_signal(cnd)\n . })",
      "9. tryCatchList(expr, classes, parentenv, handlers)",
      "10. tryCatchOne(expr, names, parentenv, handlers[[1L]])",
      "11. value[[3L]](cond)",
      "12. cnd_signal(cnd)",
      "13. rlang:::signal_abort(x)"
     ]
    }
   ],
   "source": [
    "head(sam_with_meta) %>% tidyr::pivot_wider(names_from=SampleDate,id_cols=Label,values_from=TPM)"
   ]
  },
  {
   "cell_type": "code",
   "execution_count": null,
   "metadata": {},
   "outputs": [],
   "source": [
    "test <- cor.test(dat$drat, dat$qsec)"
   ]
  }
 ],
 "metadata": {
  "kernelspec": {
   "display_name": "R 4.1",
   "language": "R",
   "name": "ir41"
  },
  "language_info": {
   "codemirror_mode": "r",
   "file_extension": ".r",
   "mimetype": "text/x-r-source",
   "name": "R",
   "pygments_lexer": "r",
   "version": "4.1.0"
  }
 },
 "nbformat": 4,
 "nbformat_minor": 2
}
