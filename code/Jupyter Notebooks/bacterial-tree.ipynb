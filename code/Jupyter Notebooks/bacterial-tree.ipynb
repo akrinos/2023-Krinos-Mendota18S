{
 "cells": [
  {
   "cell_type": "code",
   "execution_count": 2,
   "metadata": {},
   "outputs": [],
   "source": [
    "pacman::p_load(ggplot2,ggpubr,phylotools,geiger,ggtreeExtra,data.table,\n",
    "               phytools,phyloseq,ggtree,ape,grid,tidyr,wesanderson,\n",
    "               ggnewscale,stringr,lubridate,ggridges,patchwork,ggstance,dendextend,tidyverse)"
   ]
  },
  {
   "cell_type": "markdown",
   "metadata": {},
   "source": [
    "## Read in metadata-linked abundances from `process-abundance-data.ipynb`"
   ]
  },
  {
   "cell_type": "code",
   "execution_count": 3,
   "metadata": {},
   "outputs": [],
   "source": [
    "sam_with_meta_bact <- data.frame(fread(file.path(\"..\",\"..\",\"data\",\"sam_with_meta_bact.csv\")))\n",
    "sam_with_meta <- data.frame(fread(file.path(\"..\",\"..\",\"data\",\"sam_with_meta_euk.csv\")))"
   ]
  },
  {
   "cell_type": "code",
   "execution_count": null,
   "metadata": {},
   "outputs": [],
   "source": []
  }
 ],
 "metadata": {
  "kernelspec": {
   "display_name": "R 4.1",
   "language": "R",
   "name": "ir41"
  },
  "language_info": {
   "codemirror_mode": "r",
   "file_extension": ".r",
   "mimetype": "text/x-r-source",
   "name": "R",
   "pygments_lexer": "r",
   "version": "4.1.0"
  }
 },
 "nbformat": 4,
 "nbformat_minor": 2
}
