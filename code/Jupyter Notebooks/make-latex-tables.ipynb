{
 "cells": [
  {
   "cell_type": "code",
   "execution_count": 1,
   "metadata": {},
   "outputs": [],
   "source": [
    "import os\n",
    "import pandas as pd"
   ]
  },
  {
   "cell_type": "code",
   "execution_count": 27,
   "metadata": {},
   "outputs": [],
   "source": [
    "ntl_table = pd.read_csv(\"../../data/ntl_csv_output_both.csv\")"
   ]
  },
  {
   "cell_type": "code",
   "execution_count": 28,
   "metadata": {},
   "outputs": [],
   "source": [
    "ntl_table = ntl_table.drop(\"Unnamed: 0\",axis=1)"
   ]
  },
  {
   "cell_type": "code",
   "execution_count": 29,
   "metadata": {},
   "outputs": [],
   "source": [
    "ntl_table.PValue = ['{:0.2e}'.format(curr) for curr in ntl_table.PValue]\n",
    "ntl_table.Corr = [round(curr,2) for curr in ntl_table.Corr]"
   ]
  },
  {
   "cell_type": "code",
   "execution_count": 30,
   "metadata": {},
   "outputs": [],
   "source": [
    "latex_formatted = ntl_table.to_latex(escape=False,index=False,longtable=True,multicolumn=True,\n",
    "                     column_format=\"\".join([\"p\"] * len(ntl_table.columns)))"
   ]
  },
  {
   "cell_type": "code",
   "execution_count": 31,
   "metadata": {},
   "outputs": [
    {
     "name": "stdout",
     "output_type": "stream",
     "text": [
      "\\begin{longtable}{pppppp}\n",
      "\\toprule\n",
      "                Taxon & TaxLevel &          State &  Corr &    PValue &     Domain \\\\\n",
      "\\midrule\n",
      "\\endhead\n",
      "\\midrule\n",
      "\\multicolumn{6}{r}{{Continued on next page}} \\\\\n",
      "\\midrule\n",
      "\\endfoot\n",
      "\n",
      "\\bottomrule\n",
      "\\endlastfoot\n",
      "        Cyanobacteria &   Phylum &  Found in both &  0.39 &  1.11e-19 &   Bacteria \\\\\n",
      "      Synechococcales &    Order &  Found in both &  0.57 &  6.70e-43 &   Bacteria \\\\\n",
      "           Nostocales &    Order &  Found in both &  0.44 &  2.05e-24 &   Bacteria \\\\\n",
      "     Pseudanabaenales &    Order &  Found in both &  0.52 &  5.26e-10 &   Bacteria \\\\\n",
      "      Oscillatoriales &    Order &  Found in both &  0.13 &  7.30e-03 &   Bacteria \\\\\n",
      "        Chroococcales &    Order &  Found in both &  0.08 &  5.98e-02 &   Bacteria \\\\\n",
      "       Microcystaceae &   Family &  Found in both &  0.41 &  5.84e-19 &   Bacteria \\\\\n",
      "       Microcoleaceae &   Family &  Found in both &  0.47 &  1.53e-14 &   Bacteria \\\\\n",
      "          Nostocaceae &   Family &  Found in both &  0.34 &  1.13e-11 &   Bacteria \\\\\n",
      "     Synechococcaceae &   Family &  Found in both & -0.12 &  8.82e-03 &   Bacteria \\\\\n",
      "           Haptophyta &   Phylum &  Found in both &  0.63 &  8.18e-49 &  Eukaryota \\\\\n",
      "           Ochrophyta &   Phylum &  Found in both &  0.33 &  5.67e-13 &  Eukaryota \\\\\n",
      "          Cryptophyta &   Phylum &  Found in both &  0.07 &  1.21e-01 &  Eukaryota \\\\\n",
      "          Chlorophyta &   Phylum &  Found in both &  0.05 &  2.34e-01 &  Eukaryota \\\\\n",
      "  Coscinodiscophyceae &    Class &  Found in both &  0.26 &  5.28e-07 &  Eukaryota \\\\\n",
      "          Dinophyceae &    Class &  Found in both &  0.13 &  9.24e-03 &  Eukaryota \\\\\n",
      "        Cryptophyceae &    Class &  Found in both &  0.07 &  1.21e-01 &  Eukaryota \\\\\n",
      "        Chrysophyceae &    Class &  Found in both &  0.05 &  3.64e-01 &  Eukaryota \\\\\n",
      "        Chlorophyceae &    Class &  Found in both &  0.00 &  9.54e-01 &  Eukaryota \\\\\n",
      "        Fragilariales &    Order &  Found in both &  0.69 &  1.17e-52 &  Eukaryota \\\\\n",
      "         Prymnesiales &    Order &  Found in both &  0.66 &  3.78e-27 &  Eukaryota \\\\\n",
      "        Gonyaulacales &    Order &  Found in both &  0.71 &  5.37e-26 &  Eukaryota \\\\\n",
      "       Aulacoseirales &    Order &  Found in both &  0.37 &  2.89e-13 &  Eukaryota \\\\\n",
      "      Pyrenomonadales &    Order &  Found in both &  0.14 &  2.59e-03 &  Eukaryota \\\\\n",
      "         Peridiniales &    Order &  Found in both &  0.13 &  1.92e-02 &  Eukaryota \\\\\n",
      "       Sphaeropleales &    Order &  Found in both & -0.10 &  2.92e-02 &  Eukaryota \\\\\n",
      "        Gymnodiniales &    Order &  Found in both &  0.11 &  3.32e-02 &  Eukaryota \\\\\n",
      "    Chlamydomonadales &    Order &  Found in both &  0.08 &  8.13e-02 &  Eukaryota \\\\\n",
      "        Chromulinales &    Order &  Found in both &  0.04 &  4.04e-01 &  Eukaryota \\\\\n",
      "       Fragilariaceae &   Family &  Found in both &  0.69 &  1.17e-52 &  Eukaryota \\\\\n",
      " Chrysochromulinaceae &   Family &  Found in both &  0.66 &  3.78e-27 &  Eukaryota \\\\\n",
      "          Ceratiaceae &   Family &  Found in both &  0.71 &  5.37e-26 &  Eukaryota \\\\\n",
      "   Chlamydomonadaceae &   Family &  Found in both &  0.44 &  1.62e-22 &  Eukaryota \\\\\n",
      "    Stephanodiscaceae &   Family &  Found in both &  0.31 &  5.48e-11 &  Eukaryota \\\\\n",
      "          Volvocaceae &   Family &  Found in both &  0.30 &  1.54e-07 &  Eukaryota \\\\\n",
      "     Cryptomonadaceae &   Family &  Found in both &  0.11 &  1.37e-02 &  Eukaryota \\\\\n",
      "     Pyrenomonadaceae &   Family &  Found in both & -0.04 &  4.22e-01 &  Eukaryota \\\\\n",
      "       Chromulinaceae &   Family &  Found in both & -0.03 &  6.21e-01 &  Eukaryota \\\\\n",
      "\\end{longtable}\n",
      "\n"
     ]
    }
   ],
   "source": [
    "print(latex_formatted)"
   ]
  },
  {
   "cell_type": "code",
   "execution_count": null,
   "metadata": {},
   "outputs": [],
   "source": []
  }
 ],
 "metadata": {
  "kernelspec": {
   "display_name": "scplotenv",
   "language": "python",
   "name": "scplotenv"
  },
  "language_info": {
   "codemirror_mode": {
    "name": "ipython",
    "version": 3
   },
   "file_extension": ".py",
   "mimetype": "text/x-python",
   "name": "python",
   "nbconvert_exporter": "python",
   "pygments_lexer": "ipython3",
   "version": "3.8.3"
  }
 },
 "nbformat": 4,
 "nbformat_minor": 2
}
